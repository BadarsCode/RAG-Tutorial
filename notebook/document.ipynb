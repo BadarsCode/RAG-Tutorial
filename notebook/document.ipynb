{
 "cells": [
  {
   "cell_type": "code",
   "execution_count": 1,
   "id": "3e8c0294",
   "metadata": {},
   "outputs": [],
   "source": [
    "from langchain_core.documents import Document"
   ]
  },
  {
   "cell_type": "code",
   "execution_count": 4,
   "id": "c27813c8",
   "metadata": {},
   "outputs": [],
   "source": [
    "doc = Document(\n",
    "    page_content=\"this the main text content, I am using to create RAG\",\n",
    "    metadata={\n",
    "        \"source\":\"example.txt\",\n",
    "        \"pages\":1,\n",
    "        \"author\":\"Subhanud Din\",\n",
    "        \"created_date\":\"2025-10-30\",\n",
    "\n",
    "    }\n",
    ")"
   ]
  },
  {
   "cell_type": "code",
   "execution_count": 5,
   "id": "36a87c87",
   "metadata": {},
   "outputs": [
    {
     "data": {
      "text/plain": [
       "Document(metadata={'source': 'example.txt', 'pages': 1, 'author': 'Subhanud Din', 'created_date': '2025-10-30'}, page_content='this the main text content, I am using to create RAG')"
      ]
     },
     "execution_count": 5,
     "metadata": {},
     "output_type": "execute_result"
    }
   ],
   "source": [
    "doc"
   ]
  },
  {
   "cell_type": "code",
   "execution_count": 16,
   "id": "8e41a42f",
   "metadata": {},
   "outputs": [],
   "source": [
    "# create text file\n",
    "import os \n",
    "os.makedirs(\"../data/text_files\",exist_ok=True)\n"
   ]
  },
  {
   "cell_type": "code",
   "execution_count": 17,
   "id": "0cc99cd1",
   "metadata": {},
   "outputs": [
    {
     "name": "stdout",
     "output_type": "stream",
     "text": [
      "sample text files created\n"
     ]
    }
   ],
   "source": [
    "# create_intro_files.py\n",
    "\n",
    "# Define the content for each file\n",
    "sample_text={\n",
    "\"../data/text_files/python_intro.txt\":  \"\"\"\n",
    "Python Introduction\n",
    "===================\n",
    "\n",
    "Python is a high-level, interpreted programming language known for its\n",
    "simplicity and readability. It was created by Guido van Rossum and\n",
    "released in 1991.\n",
    "\n",
    "Key features:\n",
    "- Easy to learn and write\n",
    "- Dynamically typed\n",
    "- Huge standard library\n",
    "- Supports multiple programming paradigms (OOP, functional, procedural)\n",
    "- Excellent for automation, data analysis, and web development\n",
    "\n",
    "Example:\n",
    "    print(\"Hello, Python!\")\n",
    "\"\"\",\n",
    "\n",
    "\"../data/text_files/machine_learning_intro.txt\": \"\"\"\n",
    "Machine Learning Introduction\n",
    "=============================\n",
    "\n",
    "Machine Learning (ML) is a subset of artificial intelligence (AI) that\n",
    "focuses on enabling systems to learn from data and improve over time\n",
    "without being explicitly programmed.\n",
    "\n",
    "Key concepts:\n",
    "- **Supervised Learning**: The model learns from labeled data.\n",
    "- **Unsupervised Learning**: The model finds patterns in unlabeled data.\n",
    "- **Reinforcement Learning**: The model learns by trial and feedback.\n",
    "\n",
    "Popular libraries:\n",
    "- scikit-learn\n",
    "- TensorFlow\n",
    "- PyTorch\n",
    "\n",
    "Example workflow:\n",
    "1. Collect data\n",
    "2. Train a model\n",
    "3. Evaluate performance\n",
    "4. Make predictions\n",
    "\"\"\"\n",
    "}\n",
    "\n",
    "# Write the content into two text files\n",
    "for filepath , content in sample_text.items():\n",
    "    with open(filepath, 'w', encoding='utf-8') as f:\n",
    "        f.write(content)\n",
    "print(\"sample text files created\")\n",
    "\n"
   ]
  },
  {
   "cell_type": "code",
   "execution_count": null,
   "id": "e4ee0aa5",
   "metadata": {},
   "outputs": [],
   "source": []
  }
 ],
 "metadata": {
  "kernelspec": {
   "display_name": "RAG (3.13.7)",
   "language": "python",
   "name": "python3"
  },
  "language_info": {
   "codemirror_mode": {
    "name": "ipython",
    "version": 3
   },
   "file_extension": ".py",
   "mimetype": "text/x-python",
   "name": "python",
   "nbconvert_exporter": "python",
   "pygments_lexer": "ipython3",
   "version": "3.13.7"
  }
 },
 "nbformat": 4,
 "nbformat_minor": 5
}
